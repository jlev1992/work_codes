{
 "cells": [
  {
   "cell_type": "code",
   "execution_count": 9,
   "metadata": {},
   "outputs": [
    {
     "name": "stdout",
     "output_type": "stream",
     "text": [
      "[[ 0.          0.          0.          1.        ]\n",
      " [-0.00453242  0.00453242  0.00453242  1.        ]\n",
      " [-0.00906484  0.00906484  0.00906484  1.        ]\n",
      " ...\n",
      " [ 0.24166667  0.24166667  0.25833333  1.        ]\n",
      " [ 0.24583333  0.24583333  0.25416667  1.        ]\n",
      " [ 0.25        0.25        0.25        1.        ]]\n",
      "421\n"
     ]
    }
   ],
   "source": [
    "import os\n",
    "import numpy as np\n",
    "\n",
    "HSymK=np.loadtxt('KPOINTS')\n",
    "NHSym=len(HSymK)\n",
    "\n",
    "num_seg = 60\n",
    "\n",
    "phon='f'\n",
    "\n",
    "if phon=='true':\n",
    "    outpath=[[1,1,1]]\n",
    "else:\n",
    "    outpath=[[1,1,1,1]]\n",
    "\n",
    "for i in range(1,NHSym):\n",
    "    x = HSymK[i,0]-HSymK[i-1,0]; y = HSymK[i,1]-HSymK[i-1,1]; z = HSymK[i,2]-HSymK[i-1,2]; \n",
    "    for j in range(0,num_seg):\n",
    "        if phon=='true':\n",
    "            B=[[HSymK[i-1,0]+float(j)/float(num_seg)*x,HSymK[i-1,1]+float(j)/float(num_seg)*y,HSymK[i-1,2]+float(j)/float(num_seg)*z]]\n",
    "            outpath=np.append(outpath,B,axis=0)\n",
    "        else:\n",
    "            B=[[HSymK[i-1,0]+float(j)/float(num_seg)*x,HSymK[i-1,1]+float(j)/float(num_seg)*y,HSymK[i-1,2]+float(j)/float(num_seg)*z,1.0]]\n",
    "            outpath=np.append(outpath,B,axis=0)\n",
    "outpath=np.delete(outpath,0,0)\n",
    "if phon=='true':\n",
    "    outpath=np.append(outpath,[[HSymK[NHSym-1,0],HSymK[NHSym-1,1],HSymK[NHSym-1,2]]],axis=0)\n",
    "else:\n",
    "    outpath=np.append(outpath,[[HSymK[NHSym-1,0],HSymK[NHSym-1,1],HSymK[NHSym-1,2],1.0]],axis=0)\n",
    "print(outpath)\n",
    "np.savetxt('KPATH.txt',outpath)\n",
    "print(len(outpath))"
   ]
  },
  {
   "cell_type": "code",
   "execution_count": 6,
   "metadata": {
    "scrolled": true
   },
   "outputs": [
    {
     "name": "stdout",
     "output_type": "stream",
     "text": [
      "0.5\n"
     ]
    }
   ],
   "source": [
    "print(HSymK[NHSym-1,0])"
   ]
  },
  {
   "cell_type": "code",
   "execution_count": null,
   "metadata": {},
   "outputs": [],
   "source": []
  },
  {
   "cell_type": "code",
   "execution_count": null,
   "metadata": {},
   "outputs": [],
   "source": []
  }
 ],
 "metadata": {
  "kernelspec": {
   "display_name": "Python 3",
   "language": "python",
   "name": "python3"
  },
  "language_info": {
   "codemirror_mode": {
    "name": "ipython",
    "version": 3
   },
   "file_extension": ".py",
   "mimetype": "text/x-python",
   "name": "python",
   "nbconvert_exporter": "python",
   "pygments_lexer": "ipython3",
   "version": "3.7.4"
  }
 },
 "nbformat": 4,
 "nbformat_minor": 2
}
